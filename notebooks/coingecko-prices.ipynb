{
 "cells": [
  {
   "cell_type": "code",
   "execution_count": 1,
   "metadata": {},
   "outputs": [],
   "source": [
    "from pycoingecko import CoinGeckoAPI\n",
    "cg = CoinGeckoAPI()\n",
    "from web3 import Web3\n",
    "import pandas as pd\n",
    "import os\n",
    "import datetime\n",
    "from functools import reduce"
   ]
  },
  {
   "cell_type": "code",
   "execution_count": 2,
   "metadata": {
    "scrolled": true
   },
   "outputs": [],
   "source": [
    "web3_provider = 'wss://mainnet.infura.io/ws/v3/0cf6452466de4abf87ff0d9c07d484d8'\n",
    "w3 = Web3(Web3.WebsocketProvider(web3_provider))\n",
    "start_block_timestamp = w3.eth.getBlock(9195000).timestamp  # 01/05/2020\n",
    "end_block_timestamp = int(datetime.datetime.now().timestamp())"
   ]
  },
  {
   "cell_type": "code",
   "execution_count": 3,
   "metadata": {
    "scrolled": true
   },
   "outputs": [
    {
     "data": {
      "text/plain": [
       "1577867606"
      ]
     },
     "execution_count": 3,
     "metadata": {},
     "output_type": "execute_result"
    }
   ],
   "source": [
    "w3.eth.getBlock(9195000).timestamp"
   ]
  },
  {
   "cell_type": "code",
   "execution_count": 4,
   "metadata": {},
   "outputs": [],
   "source": [
    "eth_price = cg.get_coin_market_chart_range_by_id('ethereum', 'usd', from_timestamp=start_block_timestamp, to_timestamp=end_block_timestamp)['prices']"
   ]
  },
  {
   "cell_type": "code",
   "execution_count": 5,
   "metadata": {},
   "outputs": [],
   "source": [
    "def format_datetime_str(time_price):\n",
    "    timestamp = time_price[0] / 1000\n",
    "    time_price[0] = datetime.datetime.fromtimestamp(timestamp).strftime(\"%m/%d/%Y %H:%M:%S\")\n",
    "    return time_price\n",
    "\n",
    "eth_price = pd.DataFrame(map(format_datetime_str, eth_price), columns=['date', 'price'])"
   ]
  },
  {
   "cell_type": "code",
   "execution_count": 6,
   "metadata": {},
   "outputs": [
    {
     "data": {
      "text/html": [
       "<div>\n",
       "<style scoped>\n",
       "    .dataframe tbody tr th:only-of-type {\n",
       "        vertical-align: middle;\n",
       "    }\n",
       "\n",
       "    .dataframe tbody tr th {\n",
       "        vertical-align: top;\n",
       "    }\n",
       "\n",
       "    .dataframe thead th {\n",
       "        text-align: right;\n",
       "    }\n",
       "</style>\n",
       "<table border=\"1\" class=\"dataframe\">\n",
       "  <thead>\n",
       "    <tr style=\"text-align: right;\">\n",
       "      <th></th>\n",
       "      <th>date</th>\n",
       "      <th>price</th>\n",
       "    </tr>\n",
       "  </thead>\n",
       "  <tbody>\n",
       "    <tr>\n",
       "      <th>0</th>\n",
       "      <td>01/01/2020 21:00:00</td>\n",
       "      <td>130.484685</td>\n",
       "    </tr>\n",
       "    <tr>\n",
       "      <th>1</th>\n",
       "      <td>01/02/2020 21:00:00</td>\n",
       "      <td>127.045258</td>\n",
       "    </tr>\n",
       "    <tr>\n",
       "      <th>2</th>\n",
       "      <td>01/03/2020 21:00:00</td>\n",
       "      <td>133.702649</td>\n",
       "    </tr>\n",
       "    <tr>\n",
       "      <th>3</th>\n",
       "      <td>01/04/2020 21:00:00</td>\n",
       "      <td>134.136883</td>\n",
       "    </tr>\n",
       "    <tr>\n",
       "      <th>4</th>\n",
       "      <td>01/05/2020 21:00:00</td>\n",
       "      <td>135.005714</td>\n",
       "    </tr>\n",
       "    <tr>\n",
       "      <th>...</th>\n",
       "      <td>...</td>\n",
       "      <td>...</td>\n",
       "    </tr>\n",
       "    <tr>\n",
       "      <th>504</th>\n",
       "      <td>05/19/2021 21:00:00</td>\n",
       "      <td>2505.014946</td>\n",
       "    </tr>\n",
       "    <tr>\n",
       "      <th>505</th>\n",
       "      <td>05/20/2021 21:00:00</td>\n",
       "      <td>2778.279661</td>\n",
       "    </tr>\n",
       "    <tr>\n",
       "      <th>506</th>\n",
       "      <td>05/21/2021 21:00:00</td>\n",
       "      <td>2419.103217</td>\n",
       "    </tr>\n",
       "    <tr>\n",
       "      <th>507</th>\n",
       "      <td>05/22/2021 21:00:00</td>\n",
       "      <td>2306.371267</td>\n",
       "    </tr>\n",
       "    <tr>\n",
       "      <th>508</th>\n",
       "      <td>05/23/2021 21:00:00</td>\n",
       "      <td>2120.037375</td>\n",
       "    </tr>\n",
       "  </tbody>\n",
       "</table>\n",
       "<p>509 rows × 2 columns</p>\n",
       "</div>"
      ],
      "text/plain": [
       "                    date        price\n",
       "0    01/01/2020 21:00:00   130.484685\n",
       "1    01/02/2020 21:00:00   127.045258\n",
       "2    01/03/2020 21:00:00   133.702649\n",
       "3    01/04/2020 21:00:00   134.136883\n",
       "4    01/05/2020 21:00:00   135.005714\n",
       "..                   ...          ...\n",
       "504  05/19/2021 21:00:00  2505.014946\n",
       "505  05/20/2021 21:00:00  2778.279661\n",
       "506  05/21/2021 21:00:00  2419.103217\n",
       "507  05/22/2021 21:00:00  2306.371267\n",
       "508  05/23/2021 21:00:00  2120.037375\n",
       "\n",
       "[509 rows x 2 columns]"
      ]
     },
     "execution_count": 6,
     "metadata": {},
     "output_type": "execute_result"
    }
   ],
   "source": [
    "eth_price"
   ]
  }
 ],
 "metadata": {
  "kernelspec": {
   "display_name": "Python 3",
   "language": "python",
   "name": "python3"
  },
  "language_info": {
   "codemirror_mode": {
    "name": "ipython",
    "version": 3
   },
   "file_extension": ".py",
   "mimetype": "text/x-python",
   "name": "python",
   "nbconvert_exporter": "python",
   "pygments_lexer": "ipython3",
   "version": "3.8.5"
  }
 },
 "nbformat": 4,
 "nbformat_minor": 4
}
